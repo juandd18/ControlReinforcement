{
 "cells": [
  {
   "cell_type": "code",
   "execution_count": 1,
   "metadata": {},
   "outputs": [
    {
     "name": "stderr",
     "output_type": "stream",
     "text": [
      "INFO:unityagents:\n",
      "'Academy' started successfully!\n",
      "Unity Academy name: Academy\n",
      "        Number of Brains: 1\n",
      "        Number of External Brains : 1\n",
      "        Lesson number : 0\n",
      "        Reset Parameters :\n",
      "\t\tgoal_speed -> 1.0\n",
      "\t\tgoal_size -> 5.0\n",
      "Unity brain name: ReacherBrain\n",
      "        Number of Visual Observations (per agent): 0\n",
      "        Vector Observation space type: continuous\n",
      "        Vector Observation space size (per agent): 33\n",
      "        Number of stacked Vector Observation: 1\n",
      "        Vector Action space type: continuous\n",
      "        Vector Action space size (per agent): 4\n",
      "        Vector Action descriptions: , , , \n"
     ]
    }
   ],
   "source": [
    "from unityagents import UnityEnvironment\n",
    "import numpy as np\n",
    "env = UnityEnvironment(file_name='./Reacher_Windows_x86_64/Reacher.exe')\n",
    "# get the default brain\n",
    "brain_name = env.brain_names[0]"
   ]
  },
  {
   "cell_type": "code",
   "execution_count": 3,
   "metadata": {},
   "outputs": [],
   "source": [
    "import torch\n",
    "import numpy as np\n",
    "from collections import deque\n",
    "from utils import *\n",
    "from networks import *"
   ]
  },
  {
   "cell_type": "code",
   "execution_count": null,
   "metadata": {},
   "outputs": [],
   "source": []
  },
  {
   "cell_type": "code",
   "execution_count": 4,
   "metadata": {},
   "outputs": [],
   "source": [
    "config = Config()\n",
    "config.name = 'ReacherBrain'\n",
    "config.optimizer_fn = lambda params: torch.optim.Adam(params, lr=0.00055)\n",
    "config.num_workers = 20\n",
    "config.state_dim = 33\n",
    "config.action_dim = 4\n",
    "config.network_fn = lambda: GaussianActorCriticNet(\n",
    "    config.state_dim, config.action_dim,\n",
    "    actor_body=FCBody(88), \n",
    "    critic_body=FCBody(88),\n",
    "    phi_body=FCBody(state_dim=config.state_dim))\n",
    "config.discount = 0.70\n",
    "config.use_gae = True\n",
    "config.gae_tau = 0.8\n",
    "config.reward_normalizer = MeanStdNormalizer()\n",
    "config.entropy_weight = 0.01\n",
    "config.rollout_length = 4\n",
    "config.gradient_clip = 6\n",
    "config.max_steps = int(2e7)"
   ]
  },
  {
   "cell_type": "code",
   "execution_count": 7,
   "metadata": {},
   "outputs": [
    {
     "name": "stdout",
     "output_type": "stream",
     "text": [
      "Episode    5\tEpisodic Score   6.306\tLoss    -0.041924\n",
      "Episode   10\tEpisodic Score  13.073\tLoss    -0.042390\n",
      "Episode   15\tEpisodic Score  19.636\tLoss    -0.042178\n",
      "Episode   20\tEpisodic Score  26.617\tLoss    -0.041909\n",
      "Episode   25\tEpisodic Score  33.646\tLoss    -0.041973\n",
      "Episode   30\tEpisodic Score  40.197\tLoss    -0.042117\n",
      "Episode   35\tEpisodic Score  46.903\tLoss    -0.042213\n",
      "Episode   39\tEpisodic Score  53.668\tLoss    -0.042145 iter 10000"
     ]
    }
   ],
   "source": [
    "device = torch.device(\"cuda:0\" if torch.cuda.is_available() else \"cpu\")\n",
    "config.device = device\n",
    "\n",
    "env_info = env.reset(train_mode=True)[brain_name]\n",
    "num_agents = len(env_info.agents)\n",
    "    \n",
    "states = env_info.vector_observations\n",
    "\n",
    "n_episodes = 1\n",
    "n_episodes_limit = 40\n",
    "rewards_deque = deque([0], maxlen=100) # initialize with 0\n",
    "ep_rewards_list = []\n",
    "ep_rewards = 0\n",
    "iter_max = 10000\n",
    "iter = 0\n",
    "\n",
    "while True:\n",
    "\n",
    "    storage,accu_rewards,states,dones = collect_episodes(config.network_fn(), env, brain_name, states,100, config)\n",
    "\n",
    "    loss = learn(storage,config.network_fn(),config.optimizer_fn(config.network_fn().parameters()),config)\n",
    "    ep_rewards += accu_rewards\n",
    "    rewards_deque.append(ep_rewards/num_agents)\n",
    "    ep_rewards_list.append(ep_rewards/num_agents)\n",
    "    print('\\rEpisode {:>4}\\tEpisodic Score {:>7.3f}\\tLoss {:>12.6f}'.format(\n",
    "            n_episodes, np.mean(rewards_deque), float(loss)), end=\"\")\n",
    "    iter += 100\n",
    "    print(' iter {:>4}'.format(iter),end = \"\")\n",
    "    if n_episodes % 5 == 0:\n",
    "        print('\\rEpisode {:>4}\\tEpisodic Score {:>7.3f}\\tLoss {:>12.6f}'.format(\n",
    "                n_episodes, np.mean(rewards_deque), float(loss)))\n",
    "        # save a2c model\n",
    "        pth = './checkpoint/a2c_checkpoint.pth'\n",
    "        torch.save(config.network_fn().state_dict(), pth)\n",
    "        n_episodes += 1\n",
    "        \n",
    "    if iter >= iter_max:\n",
    "        n_episodes += 1\n",
    "        iter = 0\n",
    "        env_info = env.reset(train_mode=True)[brain_name]\n",
    "        states = env_info.vector_observations\n",
    "        # save a2c model\n",
    "        pth = './checkpoint/a2c_checkpoint3.pth'\n",
    "        torch.save(config.network_fn().state_dict(), pth)\n",
    "        \n",
    "        \n",
    "        \n",
    "    if n_episodes == n_episodes_limit:\n",
    "        # save a2c model\n",
    "        pth = './checkpoint/final_a2c_checkpoint.pth'\n",
    "        torch.save(config.network_fn().state_dict(), pth)\n",
    "        break\n",
    "    \n",
    "    if dones.any() == True:\n",
    "        n_episodes += 1\n",
    "        ep_rewards = 0\n",
    "        iter = 0\n",
    "        env_info = env.reset(train_mode=True)[brain_name]\n",
    "        states = env_info.vector_observations\n"
   ]
  },
  {
   "cell_type": "code",
   "execution_count": 9,
   "metadata": {},
   "outputs": [],
   "source": [
    "import matplotlib.pyplot as plt\n",
    "%matplotlib inline"
   ]
  },
  {
   "cell_type": "code",
   "execution_count": 10,
   "metadata": {},
   "outputs": [
    {
     "data": {
      "image/png": "[encoded data removed]",
      "text/plain": [
       "<Figure size 432x288 with 1 Axes>"
      ]
     },
     "metadata": {
      "needs_background": "light"
     },
     "output_type": "display_data"
    }
   ],
   "source": [
    "# plot the scores\n",
    "fig = plt.figure()\n",
    "ax = fig.add_subplot(111)\n",
    "plt.plot(np.arange(len(ep_rewards_list)), ep_rewards_list)\n",
    "plt.ylabel('Score')\n",
    "plt.xlabel('Episode #')\n",
    "plt.show()"
   ]
  },
  {
   "cell_type": "code",
   "execution_count": null,
   "metadata": {},
   "outputs": [],
   "source": []
  }
 ],
 "metadata": {
  "kernelspec": {
   "display_name": "Python 3",
   "language": "python",
   "name": "python3"
  },
  "language_info": {
   "codemirror_mode": {
    "name": "ipython",
    "version": 3
   },
   "file_extension": ".py",
   "mimetype": "text/x-python",
   "name": "python",
   "nbconvert_exporter": "python",
   "pygments_lexer": "ipython3",
   "version": "3.6.8"
  }
 },
 "nbformat": 4,
 "nbformat_minor": 2
}
